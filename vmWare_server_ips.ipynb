{
  "nbformat": 4,
  "nbformat_minor": 0,
  "metadata": {
    "colab": {
      "name": "vmWare_server_ips.ipynb",
      "private_outputs": true,
      "provenance": [],
      "authorship_tag": "ABX9TyNDK1kD7UaopPUG9QgW0qid",
      "include_colab_link": true
    },
    "kernelspec": {
      "name": "python3",
      "display_name": "Python 3"
    },
    "language_info": {
      "name": "python"
    }
  },
  "cells": [
    {
      "cell_type": "markdown",
      "metadata": {
        "id": "view-in-github",
        "colab_type": "text"
      },
      "source": [
        "<a href=\"https://colab.research.google.com/github/tayfununal/job/blob/main/vmWare_server_ips.ipynb\" target=\"_parent\"><img src=\"https://colab.research.google.com/assets/colab-badge.svg\" alt=\"Open In Colab\"/></a>"
      ]
    },
    {
      "cell_type": "markdown",
      "source": [
        "VNWare den export ettikten sonra ExportList.csv olarak verdiğimizde excel dosyasına çeviriyor. Böylelikle serverlar, ip adresleri ve diğer bilgiler excel tablosunda görülebiliyor."
      ],
      "metadata": {
        "id": "_h1MOHQQqaRl"
      }
    },
    {
      "cell_type": "code",
      "execution_count": null,
      "metadata": {
        "id": "GjFSL4F6NDzE"
      },
      "outputs": [],
      "source": [
        "import pandas as pd\n",
        "import numpy as np"
      ]
    },
    {
      "cell_type": "code",
      "source": [
        "df = pd.read_csv(\"/content/ExportList.csv\")"
      ],
      "metadata": {
        "id": "QgkrIE1ANFzq"
      },
      "execution_count": null,
      "outputs": []
    },
    {
      "cell_type": "code",
      "source": [
        "df = df[['Name','IP Address','State', 'Status','Host', 'Provisioned Space', 'Used Space', 'Guest OS', 'Compatibility', 'Memory Size', 'CPUs', 'Uptime', 'Host CPU', 'Host Mem', 'DNS Name']]"
      ],
      "metadata": {
        "id": "qTmYgBHPlHng"
      },
      "execution_count": null,
      "outputs": []
    },
    {
      "cell_type": "code",
      "source": [
        "df['yeni {}'.format(1)]=0\n",
        "df['yeni {}'.format(2)]=0\n",
        "for i in range(len(df)):\n",
        "  liste = str(df['IP Address'][i]).split(',')\n",
        "  if len(liste)!= 0:\n",
        "    for j in range(len(liste)):\n",
        "      if j == 0:\n",
        "        df['IP Address'][i] = liste[j]\n",
        "      else:\n",
        "        df['yeni {}'.format(j)][i] = liste[j]\n"
      ],
      "metadata": {
        "id": "9XJduRaJOJr5"
      },
      "execution_count": null,
      "outputs": []
    },
    {
      "cell_type": "code",
      "source": [
        "df = df.sort_values(by=\"IP Address\",ascending=True)"
      ],
      "metadata": {
        "id": "XGHUj1EqPWbI"
      },
      "execution_count": null,
      "outputs": []
    },
    {
      "cell_type": "code",
      "source": [
        "df.index = np.arange(1, len(df)+1)"
      ],
      "metadata": {
        "id": "dKr6uI7zPXW3"
      },
      "execution_count": null,
      "outputs": []
    },
    {
      "cell_type": "code",
      "source": [
        "df = df[['Name','IP Address', 'yeni 1', 'yeni 2','State', 'Status','Host', 'Provisioned Space', 'Used Space', 'Guest OS', 'Compatibility', 'Memory Size', 'CPUs', 'Uptime', 'Host CPU', 'Host Mem', 'DNS Name']]"
      ],
      "metadata": {
        "id": "fGS8tmMJbAE0"
      },
      "execution_count": null,
      "outputs": []
    },
    {
      "cell_type": "code",
      "source": [
        "with pd.ExcelWriter(\"Vmvares.xlsx\") as writer:\n",
        "    df.to_excel(writer) "
      ],
      "metadata": {
        "id": "WLdqHdHlW7PN"
      },
      "execution_count": null,
      "outputs": []
    }
  ]
}